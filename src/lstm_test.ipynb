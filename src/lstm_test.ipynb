{
 "cells": [
  {
   "cell_type": "markdown",
   "metadata": {},
   "source": [
    "This is the Pytorch LSTM tutorial code"
   ]
  },
  {
   "cell_type": "code",
   "execution_count": 2,
   "metadata": {},
   "outputs": [
    {
     "data": {
      "text/plain": [
       "<torch._C.Generator at 0x291dfd721f0>"
      ]
     },
     "execution_count": 2,
     "metadata": {},
     "output_type": "execute_result"
    }
   ],
   "source": [
    "import torch\n",
    "import torch.nn as nn\n",
    "import torch.nn.functional as F\n",
    "import torch.optim as optim\n",
    "\n",
    "torch.manual_seed(1)"
   ]
  },
  {
   "cell_type": "code",
   "execution_count": 9,
   "metadata": {},
   "outputs": [
    {
     "name": "stdout",
     "output_type": "stream",
     "text": [
      "1 at a time\n",
      "tensor([[[ 0.0487, -0.0815,  0.0485]]], grad_fn=<StackBackward>)\n",
      "tensor([[[0.0622, 0.1425, 0.2317]]], grad_fn=<StackBackward>)\n",
      "tensor([[[0.0100, 0.0433, 0.2201]]], grad_fn=<StackBackward>)\n",
      "tensor([[[-0.0230,  0.0558,  0.2682]]], grad_fn=<StackBackward>)\n",
      "tensor([[[-0.0705, -0.1328,  0.1770]]], grad_fn=<StackBackward>)\n",
      "All at once\n",
      "tensor([[[-0.1812, -0.2320,  0.1414]],\n",
      "\n",
      "        [[-0.1048, -0.1775,  0.4293]],\n",
      "\n",
      "        [[-0.0504, -0.0545,  0.3019]],\n",
      "\n",
      "        [[-0.0522,  0.0229,  0.3295]],\n",
      "\n",
      "        [[-0.0771, -0.1430,  0.1931]]], grad_fn=<StackBackward>)\n"
     ]
    }
   ],
   "source": [
    "lstm = nn.LSTM(3, 3)\n",
    "\n",
    "inputs = [torch.randn(1, 3) for _ in range(5)]\n",
    "\n",
    "hidden_orig = (torch.randn(1, 1, 3), torch.randn(1, 1, 3))\n",
    "\n",
    "print(\"1 at a time\")\n",
    "\n",
    "hidden = (hidden_orig[0].clone(), hidden_orig[1].clone())\n",
    "\n",
    "for i in inputs:\n",
    "    out, hidden = lstm(i.view(1, 1, -1), hidden)\n",
    "    print(out)\n",
    "\n",
    "print(\"All at once\")\n",
    "\n",
    "hidden = (hidden_orig[0].clone(), hidden_orig[1].clone())\n",
    "\n",
    "inputs = torch.cat(inputs).view(len(inputs), 1, -1)\n",
    "hidden = (torch.randn(1, 1, 3), torch.randn(1, 1, 3))\n",
    "out, hidden = lstm(inputs, hidden)\n",
    "print(out)"
   ]
  },
  {
   "cell_type": "code",
   "execution_count": 10,
   "metadata": {},
   "outputs": [
    {
     "name": "stdout",
     "output_type": "stream",
     "text": [
      "{'The': 0, 'dog': 1, 'ate': 2, 'the': 3, 'apple': 4, 'Everybody': 5, 'read': 6, 'that': 7, 'book': 8}\n"
     ]
    }
   ],
   "source": [
    "def prepare_sequence(seq, to_ix):\n",
    "    idxs = [to_ix[w] for w in seq]\n",
    "    return torch.tensor(idxs, dtype=torch.long)\n",
    "\n",
    "\n",
    "training_data = [\n",
    "    (\"The dog ate the apple\".split(), [\"DET\", \"NN\", \"V\", \"DET\", \"NN\"]),\n",
    "    (\"Everybody read that book\".split(), [\"NN\", \"V\", \"DET\", \"NN\"])\n",
    "]\n",
    "word_to_ix = {}\n",
    "for sent, tags in training_data:\n",
    "    for word in sent:\n",
    "        if word not in word_to_ix:\n",
    "            word_to_ix[word] = len(word_to_ix)\n",
    "print(word_to_ix)\n",
    "tag_to_ix = {\"DET\": 0, \"NN\": 1, \"V\": 2}\n",
    "\n",
    "EMBEDDING_DIM = 6\n",
    "HIDDEN_DIM = 6"
   ]
  },
  {
   "cell_type": "code",
   "execution_count": 14,
   "metadata": {},
   "outputs": [],
   "source": [
    "class LSTMTagger(nn.Module):\n",
    "    def __init__(self, embedding_dim, hidden_dim, vocab_size, tagset_size):\n",
    "        super(LSTMTagger, self).__init__()\n",
    "        \n",
    "        self.hidden_dim = hidden_dim\n",
    "        self.word_embeddings = nn.Embedding(vocab_size, embedding_dim)\n",
    "        \n",
    "        self.lstm = nn.LSTM(embedding_dim, hidden_dim)\n",
    "        self.hidden2tag = nn.Linear(hidden_dim, tagset_size)\n",
    "    \n",
    "    def forward(self, sentence):\n",
    "        embeds = self.word_embeddings(sentence)\n",
    "        lstm_out, _ = self.lstm(embeds.view(len(sentence), 1, -1))\n",
    "        tag_space = self.hidden2tag(lstm_out.view(len(sentence), -1))\n",
    "        tag_scores = F.log_softmax(tag_space, dim=1)\n",
    "        return tag_scores"
   ]
  },
  {
   "cell_type": "code",
   "execution_count": 16,
   "metadata": {},
   "outputs": [
    {
     "name": "stdout",
     "output_type": "stream",
     "text": [
      "tensor([[-1.1744, -1.2153, -0.9304],\n",
      "        [-1.2151, -1.2137, -0.9009],\n",
      "        [-1.2834, -1.2965, -0.7998],\n",
      "        [-1.1434, -1.1411, -1.0166],\n",
      "        [-1.2393, -1.2144, -0.8830]])\n",
      "tensor([[-0.0197, -4.1972, -5.4001],\n",
      "        [-4.4541, -0.0188, -4.9650],\n",
      "        [-3.9025, -4.2872, -0.0345],\n",
      "        [-0.0230, -4.2312, -4.7976],\n",
      "        [-4.4421, -0.0229, -4.5176]])\n"
     ]
    }
   ],
   "source": [
    "model = LSTMTagger(EMBEDDING_DIM, HIDDEN_DIM, len(word_to_ix), len(tag_to_ix))\n",
    "loss_func = nn.NLLLoss()\n",
    "optimizer = optim.SGD(model.parameters(), lr=0.1)\n",
    "\n",
    "with torch.no_grad():\n",
    "    inputs = prepare_sequence(training_data[0][0], word_to_ix)\n",
    "    tag_scores = model(inputs)\n",
    "    print(tag_scores)\n",
    "\n",
    "for epoch in range(300):\n",
    "    for sentence, tags in training_data:\n",
    "        \n",
    "        model.zero_grad()\n",
    "        \n",
    "        sentence_in = prepare_sequence(sentence, word_to_ix)\n",
    "        targets = prepare_sequence(tags, tag_to_ix)\n",
    "        \n",
    "        tag_scores = model(sentence_in)\n",
    "        \n",
    "        loss = loss_func(tag_scores, targets)\n",
    "        loss.backward()\n",
    "        optimizer.step()\n",
    "\n",
    "with torch.no_grad():\n",
    "    inputs = prepare_sequence(training_data[0][0], word_to_ix)\n",
    "    tag_scores = model(inputs)\n",
    "\n",
    "    # The sentence is \"the dog ate the apple\".  i,j corresponds to score for tag j\n",
    "    # for word i. The predicted tag is the maximum scoring tag.\n",
    "    # Here, we can see the predicted sequence below is 0 1 2 0 1\n",
    "    # since 0 is index of the maximum value of row 1,\n",
    "    # 1 is the index of maximum value of row 2, etc.\n",
    "    # Which is DET NOUN VERB DET NOUN, the correct sequence!\n",
    "    print(tag_scores)"
   ]
  },
  {
   "cell_type": "markdown",
   "metadata": {},
   "source": [
    "From this blog post\n",
    "https://blog.floydhub.com/long-short-term-memory-from-zero-to-hero-with-pytorch/"
   ]
  },
  {
   "cell_type": "code",
   "execution_count": 1,
   "metadata": {},
   "outputs": [],
   "source": [
    "import torch\n",
    "import torch.nn as nn"
   ]
  },
  {
   "cell_type": "code",
   "execution_count": 2,
   "metadata": {},
   "outputs": [],
   "source": [
    "input_dim = 5\n",
    "hidden_dim = 10\n",
    "n_layers = 2\n",
    "\n",
    "lstm_layer = nn.LSTM(input_dim, hidden_dim, n_layers, batch_first=True)"
   ]
  },
  {
   "cell_type": "code",
   "execution_count": 5,
   "metadata": {},
   "outputs": [],
   "source": [
    "batch_size = 3\n",
    "seq_len = 4\n",
    "\n",
    "input = torch.randn(batch_size, seq_len, input_dim)\n",
    "hidden_state = torch.randn(n_layers, batch_size, hidden_dim)\n",
    "cell_state = torch.randn(n_layers, batch_size, hidden_dim)\n",
    "hidden = (hidden_state, cell_state)"
   ]
  },
  {
   "cell_type": "code",
   "execution_count": 10,
   "metadata": {},
   "outputs": [
    {
     "name": "stdout",
     "output_type": "stream",
     "text": [
      "torch.Size([3, 4, 10])\n",
      "torch.Size([4, 10])\n",
      "(tensor([[[ 0.0330, -0.0881, -0.0078, -0.1163,  0.0874,  0.0760, -0.0197,\n",
      "          -0.0803, -0.1018,  0.0603],\n",
      "         [-0.1470, -0.0346,  0.0479, -0.0801,  0.0127,  0.1999,  0.0457,\n",
      "           0.0786, -0.0935,  0.0099],\n",
      "         [-0.1871,  0.2550,  0.0072,  0.0504, -0.2007,  0.1470,  0.0471,\n",
      "          -0.0156, -0.1872, -0.0632]],\n",
      "\n",
      "        [[ 0.1027, -0.1853, -0.1014, -0.0551, -0.1181, -0.0447,  0.1280,\n",
      "           0.1501, -0.0275, -0.1062],\n",
      "         [ 0.1135, -0.1897, -0.1240, -0.0356, -0.1347, -0.0254,  0.1359,\n",
      "           0.1381, -0.0315, -0.1119],\n",
      "         [ 0.1088, -0.1700, -0.1523, -0.0407, -0.1275, -0.0368,  0.0894,\n",
      "           0.1293, -0.0243, -0.1123]]], grad_fn=<StackBackward>), tensor([[[ 0.0521, -0.2119, -0.0128, -0.2276,  0.1629,  0.3429, -0.0384,\n",
      "          -0.1511, -0.2867,  0.0971],\n",
      "         [-0.2274, -0.0660,  0.1111, -0.1635,  0.0197,  0.4681,  0.1017,\n",
      "           0.1376, -0.2106,  0.0196],\n",
      "         [-0.3255,  0.4055,  0.0214,  0.0786, -0.3882,  0.5260,  0.0896,\n",
      "          -0.0297, -0.3212, -0.1251]],\n",
      "\n",
      "        [[ 0.3302, -0.4252, -0.2422, -0.1261, -0.2726, -0.0928,  0.2868,\n",
      "           0.3477, -0.0496, -0.2453],\n",
      "         [ 0.3755, -0.4265, -0.2928, -0.0805, -0.3070, -0.0534,  0.3321,\n",
      "           0.3208, -0.0569, -0.2617],\n",
      "         [ 0.3792, -0.3935, -0.3474, -0.0961, -0.2876, -0.0784,  0.2265,\n",
      "           0.2799, -0.0452, -0.2552]]], grad_fn=<StackBackward>))\n"
     ]
    }
   ],
   "source": [
    "out, hidden = lstm_layer(input, hidden)\n",
    "print(out.shape)\n",
    "out = out[-1]\n",
    "print(out.shape)\n",
    "print(hidden)"
   ]
  },
  {
   "cell_type": "code",
   "execution_count": null,
   "metadata": {},
   "outputs": [],
   "source": []
  }
 ],
 "metadata": {
  "kernelspec": {
   "display_name": "Python [conda env:cs7643music] *",
   "language": "python",
   "name": "conda-env-cs7643music-py"
  },
  "language_info": {
   "codemirror_mode": {
    "name": "ipython",
    "version": 3
   },
   "file_extension": ".py",
   "mimetype": "text/x-python",
   "name": "python",
   "nbconvert_exporter": "python",
   "pygments_lexer": "ipython3",
   "version": "3.7.7"
  }
 },
 "nbformat": 4,
 "nbformat_minor": 4
}
