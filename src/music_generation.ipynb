{
 "cells": [
  {
   "cell_type": "markdown",
   "metadata": {},
   "source": [
    "# Music Generation using an LSTM\n",
    "\n",
    "#### Final Project for Deep Learning (CS 7643)\n",
    "\n",
    "By Daeil Cha, Daniel Dias, Chitwan Kaudan"
   ]
  },
  {
   "cell_type": "markdown",
   "metadata": {},
   "source": [
    "### Global Variables"
   ]
  },
  {
   "cell_type": "code",
   "execution_count": 1,
   "metadata": {},
   "outputs": [],
   "source": [
    "data_path = \"../../lmd_matched\""
   ]
  },
  {
   "cell_type": "markdown",
   "metadata": {},
   "source": [
    "### Environment"
   ]
  },
  {
   "cell_type": "code",
   "execution_count": 3,
   "metadata": {},
   "outputs": [],
   "source": [
    "import torch\n",
    "\n",
    "import numpy as np\n",
    "import matplotlib.pyplot as plt\n",
    "\n",
    "from IPython.core.debugger import set_trace\n",
    "from getdata import getBatch\n",
    "\n",
    "%matplotlib inline\n",
    "\n",
    "%load_ext autoreload\n",
    "%autoreload 2\n",
    "\n",
    "batch_size = 16\n",
    "learning_rate = 1e-6\n",
    "epochs = 2"
   ]
  },
  {
   "cell_type": "markdown",
   "metadata": {},
   "source": [
    "##### Pytorch GPU/CPU"
   ]
  },
  {
   "cell_type": "code",
   "execution_count": 3,
   "metadata": {},
   "outputs": [],
   "source": [
    "dtype = torch.FloatTensor\n",
    "device = torch.device(\"cpu\")\n",
    "\n",
    "# dtype = torch.cuda.FloatTensor\n",
    "# device = torch.device(\"cuda:0\")"
   ]
  },
  {
   "cell_type": "markdown",
   "metadata": {},
   "source": [
    "### Model"
   ]
  },
  {
   "cell_type": "code",
   "execution_count": 4,
   "metadata": {},
   "outputs": [],
   "source": [
    "from model.main_model import MusicGeneration\n",
    "\n",
    "model = MusicGeneration(3, 2, 2)\n",
    "\n",
    "criterion = torch.nn.CrossEntropyLoss()\n",
    "optimizer = torch.optim.SGD(model.parameters(), lr=learning_rate)"
   ]
  },
  {
   "cell_type": "markdown",
   "metadata": {},
   "source": [
    "### Data"
   ]
  },
  {
   "cell_type": "code",
   "execution_count": 8,
   "metadata": {},
   "outputs": [],
   "source": [
    "# how to get batches from getdata module\n",
    "N_epochs = 1000\n",
    "batch_size = 5\n",
    "num_time_steps = 256\n",
    "num_total_songs = 500\n",
    "start = 0\n",
    "\n",
    "while start < num_total_songs:\n",
    "    batch = np.array(getBatch(start,batch_size,num_time_steps)) \n",
    "    # Shape should be (batch_size x num_time_steps x note_range x pitch/articulation)\n",
    "    batch = np.swapaxes(batch, axis1=1, axis2=2) #paper's code transposes note_range with num_time_steps; note sure if we need\n",
    "    start += batch_size"
   ]
  },
  {
   "cell_type": "code",
   "execution_count": 8,
   "metadata": {},
   "outputs": [],
   "source": [
    "# data = load in data from folder\n",
    "data = torch.randn(batch_size, 3)\n",
    "y = torch.max(torch.randn(batch_size, 2), dim=1).indices"
   ]
  },
  {
   "cell_type": "markdown",
   "metadata": {},
   "source": [
    "## Training"
   ]
  },
  {
   "cell_type": "code",
   "execution_count": 10,
   "metadata": {},
   "outputs": [
    {
     "name": "stdout",
     "output_type": "stream",
     "text": [
      "99 0.5995131134986877\n",
      "199 0.5995097756385803\n",
      "299 0.5995063781738281\n",
      "399 0.5995030999183655\n",
      "499 0.5994997620582581\n",
      "99 0.5994964241981506\n",
      "199 0.599493145942688\n",
      "299 0.5994898676872253\n",
      "399 0.5994865894317627\n",
      "499 0.5994831323623657\n"
     ]
    }
   ],
   "source": [
    "for epoch in range(epochs):\n",
    "    for t in range(500): # range(data_size):\n",
    "        # Forward pass: Compute predicted y by passing x to the model\n",
    "        y_pred = model(data)\n",
    "\n",
    "        # Compute and print loss\n",
    "        # loss = criterion(torch.max(y_pred, dim=1).indices, y)\n",
    "        loss = criterion(y_pred, y)\n",
    "        if t % 100 == 99:\n",
    "            print(t, loss.item())\n",
    "\n",
    "        # Zero gradients, perform a backward pass, and update the weights.\n",
    "        optimizer.zero_grad()\n",
    "        loss.backward()\n",
    "        optimizer.step()"
   ]
  },
  {
   "cell_type": "code",
   "execution_count": null,
   "metadata": {},
   "outputs": [],
   "source": []
  }
 ],
 "metadata": {
  "kernelspec": {
   "display_name": "Python [conda env:root]",
   "language": "python",
   "name": "conda-root-py"
  },
  "language_info": {
   "codemirror_mode": {
    "name": "ipython",
    "version": 3
   },
   "file_extension": ".py",
   "mimetype": "text/x-python",
   "name": "python",
   "nbconvert_exporter": "python",
   "pygments_lexer": "ipython3",
   "version": "3.7.4"
  }
 },
 "nbformat": 4,
 "nbformat_minor": 4
}
