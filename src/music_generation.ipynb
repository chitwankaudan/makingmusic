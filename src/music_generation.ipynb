{
 "cells": [
  {
   "cell_type": "markdown",
   "metadata": {},
   "source": [
    "# Music Generation using an LSTM\n",
    "\n",
    "#### Final Project for Deep Learning (CS 7643)\n",
    "\n",
    "By Daeil Cha, Daniel Dias, Chitwan Kaudan"
   ]
  },
  {
   "cell_type": "markdown",
   "metadata": {},
   "source": [
    "### Global Variables"
   ]
  },
  {
   "cell_type": "code",
   "execution_count": 1,
   "metadata": {},
   "outputs": [],
   "source": [
    "# data_path = \"../../lmd_matched\"\n",
    "data_path = \"../clean-data\"\n",
    "saved_models_path = \"../saved-models\"\n",
    "\n",
    "num_epochs = 10 # 1000\n",
    "batch_size = 8\n",
    "num_time_steps = 128\n",
    "num_total_songs = 400"
   ]
  },
  {
   "cell_type": "markdown",
   "metadata": {},
   "source": [
    "### Environment"
   ]
  },
  {
   "cell_type": "code",
   "execution_count": 2,
   "metadata": {},
   "outputs": [],
   "source": [
    "import os\n",
    "\n",
    "import torch\n",
    "\n",
    "import numpy as np\n",
    "import matplotlib.pyplot as plt\n",
    "\n",
    "# from IPython.core.debugger import set_trace\n",
    "from getdata import getBatch\n",
    "\n",
    "%matplotlib inline\n",
    "\n",
    "%load_ext autoreload\n",
    "%autoreload 2\n",
    "\n",
    "learning_rate = 1e-6"
   ]
  },
  {
   "cell_type": "markdown",
   "metadata": {},
   "source": [
    "##### Pytorch GPU/CPU"
   ]
  },
  {
   "cell_type": "code",
   "execution_count": 6,
   "metadata": {},
   "outputs": [
    {
     "name": "stdout",
     "output_type": "stream",
     "text": [
      "cuda:0\n"
     ]
    }
   ],
   "source": [
    "# dtype = torch.FloatTensor\n",
    "# device = torch.device(\"cpu\")\n",
    "\n",
    "dtype = torch.cuda.FloatTensor\n",
    "device = torch.device(\"cuda:0\")\n",
    "\n",
    "print(device)"
   ]
  },
  {
   "cell_type": "markdown",
   "metadata": {},
   "source": [
    "### Data"
   ]
  },
  {
   "cell_type": "markdown",
   "metadata": {},
   "source": [
    "#### Load In Data"
   ]
  },
  {
   "cell_type": "code",
   "execution_count": 10,
   "metadata": {},
   "outputs": [],
   "source": [
    "start = 0\n",
    "all_data = []\n",
    "\n",
    "while start < num_total_songs:\n",
    "    batch = np.array(getBatch(start, batch_size, num_time_steps, data_path), dtype='double')\n",
    "    all_data.append(batch)\n",
    "    # Shape should be (batch_size x num_time_steps x note_range x pitch/articulation)\n",
    "    start += batch_size\n",
    "\n",
    "all_data = np.concatenate(all_data, axis=0)"
   ]
  },
  {
   "cell_type": "code",
   "execution_count": 11,
   "metadata": {},
   "outputs": [
    {
     "data": {
      "text/plain": [
       "(400, 128, 78, 2)"
      ]
     },
     "execution_count": 11,
     "metadata": {},
     "output_type": "execute_result"
    }
   ],
   "source": [
    "all_data.shape"
   ]
  },
  {
   "cell_type": "markdown",
   "metadata": {},
   "source": [
    "#### Apply Input Kernel"
   ]
  },
  {
   "cell_type": "code",
   "execution_count": 12,
   "metadata": {},
   "outputs": [
    {
     "data": {
      "text/plain": [
       "torch.Size([400, 78, 128, 80])"
      ]
     },
     "execution_count": 12,
     "metadata": {},
     "output_type": "execute_result"
    }
   ],
   "source": [
    "from model.input_function import InputKernel\n",
    "inputkernel = InputKernel.apply\n",
    "\n",
    "note_state_batch = torch.from_numpy(np.swapaxes(all_data,1,2)).float() \n",
    "#input kernel expects input shape = batch_size x num_notes x num_timesteps x 2\n",
    "midi_high = 101\n",
    "midi_low = 24\n",
    "time_init=0\n",
    "\n",
    "with torch.no_grad():\n",
    "    note_state_batch = inputkernel(note_state_batch,midi_low,midi_high,time_init)\n",
    "\n",
    "note_state_batch.shape\n",
    "#input kernel's output shape = batch_size x num_notes x num_timesteps x 80"
   ]
  },
  {
   "cell_type": "markdown",
   "metadata": {},
   "source": [
    "#### Partition Data"
   ]
  },
  {
   "cell_type": "code",
   "execution_count": 13,
   "metadata": {},
   "outputs": [
    {
     "name": "stdout",
     "output_type": "stream",
     "text": [
      "all data: (400, 128, 156)\n",
      "all expected: (400, 128, 156)\n"
     ]
    }
   ],
   "source": [
    "x_train = None\n",
    "y_train = None\n",
    "\n",
    "x_val = None\n",
    "y_val = None\n",
    "\n",
    "x_test = None\n",
    "y_test = None\n",
    "\n",
    "all_expected = np.empty(all_data.shape)\n",
    "all_expected[:, 0:all_expected.shape[1]-1] = all_data[:, 1:all_data.shape[1]]\n",
    "all_expected[:, all_expected.shape[1]-1] = 0\n",
    "\n",
    "all_data = np.reshape(all_data, (num_total_songs, num_time_steps, -1))\n",
    "all_expected = np.reshape(all_expected, (num_total_songs, num_time_steps, -1))\n",
    "\n",
    "print(\"all data:\", all_data.shape)\n",
    "print(\"all expected:\", all_expected.shape)\n",
    "\n",
    "note_state_batch.requires_grad_()\n",
    "\n",
    "orig_dataset = torch.utils.data.TensorDataset(note_state_batch.type(torch.FloatTensor), torch.from_numpy(all_expected).type(torch.FloatTensor))\n",
    "x_train, x_test = torch.utils.data.random_split(orig_dataset, [num_total_songs - 50, 50])\n",
    "\n",
    "x_train_loader = torch.utils.data.DataLoader(x_train, batch_size=batch_size, shuffle=True)\n",
    "x_test_loader = torch.utils.data.DataLoader(x_test, batch_size=batch_size)\n",
    "\n",
    "# for data in x_train_loader:\n",
    "#     print(data[0].shape, data[1].shape)"
   ]
  },
  {
   "cell_type": "markdown",
   "metadata": {},
   "source": [
    "## Functions"
   ]
  },
  {
   "cell_type": "markdown",
   "metadata": {},
   "source": [
    "#### Train Steps"
   ]
  },
  {
   "cell_type": "code",
   "execution_count": 3,
   "metadata": {},
   "outputs": [],
   "source": [
    "def train_step(x, y, model, loss_criterion, optimizer):\n",
    "    y_pred = model(x)\n",
    "\n",
    "    # Compute and print loss\n",
    "    # loss = loss_criterion(torch.max(y_pred, dim=1).indices, y)\n",
    "    loss = loss_criterion(y_pred, y)\n",
    "    loss /= x.shape[0]\n",
    "    ret_val = loss.item()\n",
    "\n",
    "    # Zero gradients, perform a backward pass, and update the weights.\n",
    "    optimizer.zero_grad()\n",
    "    loss.backward()\n",
    "    optimizer.step()\n",
    "    \n",
    "    return ret_val\n",
    "\n",
    "def test_step(x, y, model, loss_criterion):\n",
    "    y_pred = model(x)\n",
    "    loss = loss_criterion(y_pred, y)\n",
    "    loss /= x.shape[0]\n",
    "    \n",
    "    return loss.item(), y_pred"
   ]
  },
  {
   "cell_type": "markdown",
   "metadata": {},
   "source": [
    "#### Save/Load Model"
   ]
  },
  {
   "cell_type": "code",
   "execution_count": 4,
   "metadata": {},
   "outputs": [],
   "source": [
    "def save_model(model, model_name):\n",
    "    torch.save(model.state_dict(), os.path.join(saved_models_path, model_name))\n",
    "\n",
    "def load_model_parameters(model, model_name):\n",
    "    model.load_state_dict(torch.load(os.path.join(saved_models_path, model_name)))\n",
    "\n",
    "def load_new_model(model_name, model_constructor, *args):\n",
    "    model = model_constructor(args)\n",
    "    load_model_parameters(model, model_name)\n",
    "    return model"
   ]
  },
  {
   "cell_type": "markdown",
   "metadata": {},
   "source": [
    "### Model"
   ]
  },
  {
   "cell_type": "code",
   "execution_count": 7,
   "metadata": {},
   "outputs": [],
   "source": [
    "from model.main_model import MusicGenerationV2\n",
    "\n",
    "model = MusicGenerationV2(time_sequence_len=num_time_steps, batch_size=batch_size, time_hidden_size=36, data_type=dtype, device=device)\n",
    "\n",
    "load_model_parameters(model, \"biaxial_trained.pt\")\n",
    "\n",
    "loss_criterion = torch.nn.MSELoss(reduction='sum') # = torch.nn.CrossEntropyLoss()\n",
    "optimizer = torch.optim.Adam(model.parameters(), lr=learning_rate)"
   ]
  },
  {
   "cell_type": "markdown",
   "metadata": {},
   "source": [
    "#### Move To Correct Device"
   ]
  },
  {
   "cell_type": "code",
   "execution_count": 8,
   "metadata": {},
   "outputs": [
    {
     "data": {
      "text/plain": [
       "MusicGenerationV2(\n",
       "  (lstm_time0): ModuleList(\n",
       "    (0): LSTM(80, 36, batch_first=True)\n",
       "    (1): LSTM(80, 36, batch_first=True)\n",
       "    (2): LSTM(80, 36, batch_first=True)\n",
       "    (3): LSTM(80, 36, batch_first=True)\n",
       "    (4): LSTM(80, 36, batch_first=True)\n",
       "    (5): LSTM(80, 36, batch_first=True)\n",
       "    (6): LSTM(80, 36, batch_first=True)\n",
       "    (7): LSTM(80, 36, batch_first=True)\n",
       "    (8): LSTM(80, 36, batch_first=True)\n",
       "    (9): LSTM(80, 36, batch_first=True)\n",
       "    (10): LSTM(80, 36, batch_first=True)\n",
       "    (11): LSTM(80, 36, batch_first=True)\n",
       "    (12): LSTM(80, 36, batch_first=True)\n",
       "    (13): LSTM(80, 36, batch_first=True)\n",
       "    (14): LSTM(80, 36, batch_first=True)\n",
       "    (15): LSTM(80, 36, batch_first=True)\n",
       "    (16): LSTM(80, 36, batch_first=True)\n",
       "    (17): LSTM(80, 36, batch_first=True)\n",
       "    (18): LSTM(80, 36, batch_first=True)\n",
       "    (19): LSTM(80, 36, batch_first=True)\n",
       "    (20): LSTM(80, 36, batch_first=True)\n",
       "    (21): LSTM(80, 36, batch_first=True)\n",
       "    (22): LSTM(80, 36, batch_first=True)\n",
       "    (23): LSTM(80, 36, batch_first=True)\n",
       "    (24): LSTM(80, 36, batch_first=True)\n",
       "    (25): LSTM(80, 36, batch_first=True)\n",
       "    (26): LSTM(80, 36, batch_first=True)\n",
       "    (27): LSTM(80, 36, batch_first=True)\n",
       "    (28): LSTM(80, 36, batch_first=True)\n",
       "    (29): LSTM(80, 36, batch_first=True)\n",
       "    (30): LSTM(80, 36, batch_first=True)\n",
       "    (31): LSTM(80, 36, batch_first=True)\n",
       "    (32): LSTM(80, 36, batch_first=True)\n",
       "    (33): LSTM(80, 36, batch_first=True)\n",
       "    (34): LSTM(80, 36, batch_first=True)\n",
       "    (35): LSTM(80, 36, batch_first=True)\n",
       "    (36): LSTM(80, 36, batch_first=True)\n",
       "    (37): LSTM(80, 36, batch_first=True)\n",
       "    (38): LSTM(80, 36, batch_first=True)\n",
       "    (39): LSTM(80, 36, batch_first=True)\n",
       "    (40): LSTM(80, 36, batch_first=True)\n",
       "    (41): LSTM(80, 36, batch_first=True)\n",
       "    (42): LSTM(80, 36, batch_first=True)\n",
       "    (43): LSTM(80, 36, batch_first=True)\n",
       "    (44): LSTM(80, 36, batch_first=True)\n",
       "    (45): LSTM(80, 36, batch_first=True)\n",
       "    (46): LSTM(80, 36, batch_first=True)\n",
       "    (47): LSTM(80, 36, batch_first=True)\n",
       "    (48): LSTM(80, 36, batch_first=True)\n",
       "    (49): LSTM(80, 36, batch_first=True)\n",
       "    (50): LSTM(80, 36, batch_first=True)\n",
       "    (51): LSTM(80, 36, batch_first=True)\n",
       "    (52): LSTM(80, 36, batch_first=True)\n",
       "    (53): LSTM(80, 36, batch_first=True)\n",
       "    (54): LSTM(80, 36, batch_first=True)\n",
       "    (55): LSTM(80, 36, batch_first=True)\n",
       "    (56): LSTM(80, 36, batch_first=True)\n",
       "    (57): LSTM(80, 36, batch_first=True)\n",
       "    (58): LSTM(80, 36, batch_first=True)\n",
       "    (59): LSTM(80, 36, batch_first=True)\n",
       "    (60): LSTM(80, 36, batch_first=True)\n",
       "    (61): LSTM(80, 36, batch_first=True)\n",
       "    (62): LSTM(80, 36, batch_first=True)\n",
       "    (63): LSTM(80, 36, batch_first=True)\n",
       "    (64): LSTM(80, 36, batch_first=True)\n",
       "    (65): LSTM(80, 36, batch_first=True)\n",
       "    (66): LSTM(80, 36, batch_first=True)\n",
       "    (67): LSTM(80, 36, batch_first=True)\n",
       "    (68): LSTM(80, 36, batch_first=True)\n",
       "    (69): LSTM(80, 36, batch_first=True)\n",
       "    (70): LSTM(80, 36, batch_first=True)\n",
       "    (71): LSTM(80, 36, batch_first=True)\n",
       "    (72): LSTM(80, 36, batch_first=True)\n",
       "    (73): LSTM(80, 36, batch_first=True)\n",
       "    (74): LSTM(80, 36, batch_first=True)\n",
       "    (75): LSTM(80, 36, batch_first=True)\n",
       "    (76): LSTM(80, 36, batch_first=True)\n",
       "    (77): LSTM(80, 36, batch_first=True)\n",
       "  )\n",
       "  (lstm_note0): ModuleList(\n",
       "    (0): LSTM(36, 2, batch_first=True)\n",
       "    (1): LSTM(36, 2, batch_first=True)\n",
       "    (2): LSTM(36, 2, batch_first=True)\n",
       "    (3): LSTM(36, 2, batch_first=True)\n",
       "    (4): LSTM(36, 2, batch_first=True)\n",
       "    (5): LSTM(36, 2, batch_first=True)\n",
       "    (6): LSTM(36, 2, batch_first=True)\n",
       "    (7): LSTM(36, 2, batch_first=True)\n",
       "    (8): LSTM(36, 2, batch_first=True)\n",
       "    (9): LSTM(36, 2, batch_first=True)\n",
       "    (10): LSTM(36, 2, batch_first=True)\n",
       "    (11): LSTM(36, 2, batch_first=True)\n",
       "    (12): LSTM(36, 2, batch_first=True)\n",
       "    (13): LSTM(36, 2, batch_first=True)\n",
       "    (14): LSTM(36, 2, batch_first=True)\n",
       "    (15): LSTM(36, 2, batch_first=True)\n",
       "    (16): LSTM(36, 2, batch_first=True)\n",
       "    (17): LSTM(36, 2, batch_first=True)\n",
       "    (18): LSTM(36, 2, batch_first=True)\n",
       "    (19): LSTM(36, 2, batch_first=True)\n",
       "    (20): LSTM(36, 2, batch_first=True)\n",
       "    (21): LSTM(36, 2, batch_first=True)\n",
       "    (22): LSTM(36, 2, batch_first=True)\n",
       "    (23): LSTM(36, 2, batch_first=True)\n",
       "    (24): LSTM(36, 2, batch_first=True)\n",
       "    (25): LSTM(36, 2, batch_first=True)\n",
       "    (26): LSTM(36, 2, batch_first=True)\n",
       "    (27): LSTM(36, 2, batch_first=True)\n",
       "    (28): LSTM(36, 2, batch_first=True)\n",
       "    (29): LSTM(36, 2, batch_first=True)\n",
       "    (30): LSTM(36, 2, batch_first=True)\n",
       "    (31): LSTM(36, 2, batch_first=True)\n",
       "    (32): LSTM(36, 2, batch_first=True)\n",
       "    (33): LSTM(36, 2, batch_first=True)\n",
       "    (34): LSTM(36, 2, batch_first=True)\n",
       "    (35): LSTM(36, 2, batch_first=True)\n",
       "    (36): LSTM(36, 2, batch_first=True)\n",
       "    (37): LSTM(36, 2, batch_first=True)\n",
       "    (38): LSTM(36, 2, batch_first=True)\n",
       "    (39): LSTM(36, 2, batch_first=True)\n",
       "    (40): LSTM(36, 2, batch_first=True)\n",
       "    (41): LSTM(36, 2, batch_first=True)\n",
       "    (42): LSTM(36, 2, batch_first=True)\n",
       "    (43): LSTM(36, 2, batch_first=True)\n",
       "    (44): LSTM(36, 2, batch_first=True)\n",
       "    (45): LSTM(36, 2, batch_first=True)\n",
       "    (46): LSTM(36, 2, batch_first=True)\n",
       "    (47): LSTM(36, 2, batch_first=True)\n",
       "    (48): LSTM(36, 2, batch_first=True)\n",
       "    (49): LSTM(36, 2, batch_first=True)\n",
       "    (50): LSTM(36, 2, batch_first=True)\n",
       "    (51): LSTM(36, 2, batch_first=True)\n",
       "    (52): LSTM(36, 2, batch_first=True)\n",
       "    (53): LSTM(36, 2, batch_first=True)\n",
       "    (54): LSTM(36, 2, batch_first=True)\n",
       "    (55): LSTM(36, 2, batch_first=True)\n",
       "    (56): LSTM(36, 2, batch_first=True)\n",
       "    (57): LSTM(36, 2, batch_first=True)\n",
       "    (58): LSTM(36, 2, batch_first=True)\n",
       "    (59): LSTM(36, 2, batch_first=True)\n",
       "    (60): LSTM(36, 2, batch_first=True)\n",
       "    (61): LSTM(36, 2, batch_first=True)\n",
       "    (62): LSTM(36, 2, batch_first=True)\n",
       "    (63): LSTM(36, 2, batch_first=True)\n",
       "    (64): LSTM(36, 2, batch_first=True)\n",
       "    (65): LSTM(36, 2, batch_first=True)\n",
       "    (66): LSTM(36, 2, batch_first=True)\n",
       "    (67): LSTM(36, 2, batch_first=True)\n",
       "    (68): LSTM(36, 2, batch_first=True)\n",
       "    (69): LSTM(36, 2, batch_first=True)\n",
       "    (70): LSTM(36, 2, batch_first=True)\n",
       "    (71): LSTM(36, 2, batch_first=True)\n",
       "    (72): LSTM(36, 2, batch_first=True)\n",
       "    (73): LSTM(36, 2, batch_first=True)\n",
       "    (74): LSTM(36, 2, batch_first=True)\n",
       "    (75): LSTM(36, 2, batch_first=True)\n",
       "    (76): LSTM(36, 2, batch_first=True)\n",
       "    (77): LSTM(36, 2, batch_first=True)\n",
       "    (78): LSTM(36, 2, batch_first=True)\n",
       "    (79): LSTM(36, 2, batch_first=True)\n",
       "    (80): LSTM(36, 2, batch_first=True)\n",
       "    (81): LSTM(36, 2, batch_first=True)\n",
       "    (82): LSTM(36, 2, batch_first=True)\n",
       "    (83): LSTM(36, 2, batch_first=True)\n",
       "    (84): LSTM(36, 2, batch_first=True)\n",
       "    (85): LSTM(36, 2, batch_first=True)\n",
       "    (86): LSTM(36, 2, batch_first=True)\n",
       "    (87): LSTM(36, 2, batch_first=True)\n",
       "    (88): LSTM(36, 2, batch_first=True)\n",
       "    (89): LSTM(36, 2, batch_first=True)\n",
       "    (90): LSTM(36, 2, batch_first=True)\n",
       "    (91): LSTM(36, 2, batch_first=True)\n",
       "    (92): LSTM(36, 2, batch_first=True)\n",
       "    (93): LSTM(36, 2, batch_first=True)\n",
       "    (94): LSTM(36, 2, batch_first=True)\n",
       "    (95): LSTM(36, 2, batch_first=True)\n",
       "    (96): LSTM(36, 2, batch_first=True)\n",
       "    (97): LSTM(36, 2, batch_first=True)\n",
       "    (98): LSTM(36, 2, batch_first=True)\n",
       "    (99): LSTM(36, 2, batch_first=True)\n",
       "    (100): LSTM(36, 2, batch_first=True)\n",
       "    (101): LSTM(36, 2, batch_first=True)\n",
       "    (102): LSTM(36, 2, batch_first=True)\n",
       "    (103): LSTM(36, 2, batch_first=True)\n",
       "    (104): LSTM(36, 2, batch_first=True)\n",
       "    (105): LSTM(36, 2, batch_first=True)\n",
       "    (106): LSTM(36, 2, batch_first=True)\n",
       "    (107): LSTM(36, 2, batch_first=True)\n",
       "    (108): LSTM(36, 2, batch_first=True)\n",
       "    (109): LSTM(36, 2, batch_first=True)\n",
       "    (110): LSTM(36, 2, batch_first=True)\n",
       "    (111): LSTM(36, 2, batch_first=True)\n",
       "    (112): LSTM(36, 2, batch_first=True)\n",
       "    (113): LSTM(36, 2, batch_first=True)\n",
       "    (114): LSTM(36, 2, batch_first=True)\n",
       "    (115): LSTM(36, 2, batch_first=True)\n",
       "    (116): LSTM(36, 2, batch_first=True)\n",
       "    (117): LSTM(36, 2, batch_first=True)\n",
       "    (118): LSTM(36, 2, batch_first=True)\n",
       "    (119): LSTM(36, 2, batch_first=True)\n",
       "    (120): LSTM(36, 2, batch_first=True)\n",
       "    (121): LSTM(36, 2, batch_first=True)\n",
       "    (122): LSTM(36, 2, batch_first=True)\n",
       "    (123): LSTM(36, 2, batch_first=True)\n",
       "    (124): LSTM(36, 2, batch_first=True)\n",
       "    (125): LSTM(36, 2, batch_first=True)\n",
       "    (126): LSTM(36, 2, batch_first=True)\n",
       "    (127): LSTM(36, 2, batch_first=True)\n",
       "  )\n",
       "  (dropout): Dropout(p=0.2, inplace=False)\n",
       ")"
      ]
     },
     "execution_count": 8,
     "metadata": {},
     "output_type": "execute_result"
    }
   ],
   "source": [
    "model.to(device)"
   ]
  },
  {
   "cell_type": "markdown",
   "metadata": {},
   "source": [
    "## Training"
   ]
  },
  {
   "cell_type": "code",
   "execution_count": 9,
   "metadata": {
    "scrolled": true
   },
   "outputs": [
    {
     "name": "stdout",
     "output_type": "stream",
     "text": [
      "Epoch: 0\n"
     ]
    },
    {
     "ename": "NameError",
     "evalue": "name 'x_train_loader' is not defined",
     "output_type": "error",
     "traceback": [
      "\u001b[1;31m---------------------------------------------------------------------------\u001b[0m",
      "\u001b[1;31mNameError\u001b[0m                                 Traceback (most recent call last)",
      "\u001b[1;32m<ipython-input-9-6f6e260cb54d>\u001b[0m in \u001b[0;36m<module>\u001b[1;34m\u001b[0m\n\u001b[0;32m      9\u001b[0m     \u001b[0mlosses\u001b[0m\u001b[1;33m.\u001b[0m\u001b[0mappend\u001b[0m\u001b[1;33m(\u001b[0m\u001b[1;33m[\u001b[0m\u001b[1;33m]\u001b[0m\u001b[1;33m)\u001b[0m\u001b[1;33m\u001b[0m\u001b[1;33m\u001b[0m\u001b[0m\n\u001b[0;32m     10\u001b[0m \u001b[1;33m\u001b[0m\u001b[0m\n\u001b[1;32m---> 11\u001b[1;33m     \u001b[1;32mfor\u001b[0m \u001b[0mi\u001b[0m\u001b[1;33m,\u001b[0m \u001b[0mdata\u001b[0m \u001b[1;32min\u001b[0m \u001b[0menumerate\u001b[0m\u001b[1;33m(\u001b[0m\u001b[0mx_train_loader\u001b[0m\u001b[1;33m,\u001b[0m \u001b[1;36m0\u001b[0m\u001b[1;33m)\u001b[0m\u001b[1;33m:\u001b[0m\u001b[1;33m\u001b[0m\u001b[1;33m\u001b[0m\u001b[0m\n\u001b[0m\u001b[0;32m     12\u001b[0m         \u001b[0mx\u001b[0m\u001b[1;33m,\u001b[0m \u001b[0my\u001b[0m \u001b[1;33m=\u001b[0m \u001b[0mdata\u001b[0m\u001b[1;33m[\u001b[0m\u001b[1;36m0\u001b[0m\u001b[1;33m]\u001b[0m\u001b[1;33m.\u001b[0m\u001b[0mto\u001b[0m\u001b[1;33m(\u001b[0m\u001b[0mdevice\u001b[0m\u001b[1;33m)\u001b[0m\u001b[1;33m,\u001b[0m \u001b[0mdata\u001b[0m\u001b[1;33m[\u001b[0m\u001b[1;36m1\u001b[0m\u001b[1;33m]\u001b[0m\u001b[1;33m.\u001b[0m\u001b[0mto\u001b[0m\u001b[1;33m(\u001b[0m\u001b[0mdevice\u001b[0m\u001b[1;33m)\u001b[0m\u001b[1;33m\u001b[0m\u001b[1;33m\u001b[0m\u001b[0m\n\u001b[0;32m     13\u001b[0m \u001b[1;33m\u001b[0m\u001b[0m\n",
      "\u001b[1;31mNameError\u001b[0m: name 'x_train_loader' is not defined"
     ]
    }
   ],
   "source": [
    "model.train()\n",
    "best_loss = 30000\n",
    "\n",
    "num_train_steps = 1760\n",
    "losses = []\n",
    "\n",
    "for epoch in range(num_epochs):\n",
    "    print(\"Epoch:\", epoch)\n",
    "    losses.append([])\n",
    "\n",
    "    for i, data in enumerate(x_train_loader, 0):\n",
    "        x, y = data[0].to(device), data[1].to(device)\n",
    "\n",
    "        loss = train_step(x, y, model, loss_criterion, optimizer)\n",
    "        losses[epoch].append(loss)\n",
    "\n",
    "        print(\" -\", num_train_steps, \":\", loss)\n",
    "        if num_train_steps % 10 == 0 and loss < best_loss:\n",
    "            best_loss = loss\n",
    "            save_model(model, \"biaxial_{0}.pt\".format(num_train_steps))\n",
    "            print(\" --- saving model to biaxial_{0}.pt ---\".format(num_train_steps))\n",
    "        \n",
    "        num_train_steps += 1\n",
    "    losses[epoch] = np.asarray(losses[epoch])\n",
    "            \n",
    "save_model(model, \"biaxial_trained.pt\")"
   ]
  },
  {
   "cell_type": "markdown",
   "metadata": {},
   "source": [
    "#### Save Model"
   ]
  },
  {
   "cell_type": "code",
   "execution_count": 36,
   "metadata": {},
   "outputs": [],
   "source": [
    "save_model(model, \"biaxial_epochs50.pt\")"
   ]
  },
  {
   "cell_type": "markdown",
   "metadata": {},
   "source": [
    "## Test"
   ]
  },
  {
   "cell_type": "code",
   "execution_count": 15,
   "metadata": {},
   "outputs": [
    {
     "name": "stdout",
     "output_type": "stream",
     "text": [
      "1988.429931640625\n",
      "19342 626\n",
      "19344 624\n",
      "19335 633\n",
      "19342 626\n",
      "19346 622\n",
      "19341 627\n",
      "19348 620\n",
      "19351 617\n",
      "1967.9755859375\n",
      "19357 611\n",
      "19350 618\n",
      "19343 625\n",
      "19339 629\n",
      "19338 630\n",
      "19356 612\n",
      "19357 611\n",
      "19347 621\n",
      "1965.6676025390625\n",
      "19331 637\n",
      "19341 627\n",
      "19340 628\n",
      "19337 631\n",
      "19335 633\n",
      "19342 626\n",
      "19365 603\n",
      "19348 620\n",
      "1943.914794921875\n",
      "19350 618\n",
      "19337 631\n",
      "19352 616\n",
      "19355 613\n",
      "19340 628\n",
      "19346 622\n",
      "19347 621\n",
      "19358 610\n",
      "2052.353759765625\n",
      "19344 624\n",
      "19353 615\n",
      "19349 619\n",
      "19339 629\n",
      "19346 622\n",
      "19341 627\n",
      "19344 624\n",
      "19325 643\n",
      "1762.4678955078125\n",
      "19338 630\n",
      "19338 630\n",
      "19350 618\n",
      "19346 622\n",
      "19349 619\n",
      "19352 616\n",
      "19350 618\n",
      "19359 609\n",
      "2011.3912353515625\n",
      "19348 620\n",
      "19342 626\n"
     ]
    }
   ],
   "source": [
    "model.eval()\n",
    "\n",
    "y_preds = torch.empty((50, num_time_steps, 78, 2))\n",
    "\n",
    "with torch.no_grad():\n",
    "    for i, data in enumerate(x_test_loader, 0):\n",
    "        x, y = data[0].to(device), data[1].to(device)\n",
    "\n",
    "        loss, y_pred = test_step(x, y, model, loss_criterion)\n",
    "        print(loss)\n",
    "        # y_preds[i:i+y_pred.shape[0]] = y_pred.view(-1, num_time_steps, 78, 2)\n",
    "        \n",
    "        for n, temp in enumerate(y_pred):\n",
    "            temp = temp.view(num_time_steps, 78, 2)\n",
    "            y_preds[i * y_pred.shape[0] + n] = torch.where(temp > 0.5, torch.ones_like(temp), torch.zeros_like(temp))\n",
    "            print(len(y_preds[i * y_pred.shape[0] + n].flatten()) - len(torch.nonzero(y_preds[i * y_pred.shape[0] + n])), len(torch.nonzero(y_preds[i * y_pred.shape[0] + n])))"
   ]
  },
  {
   "cell_type": "markdown",
   "metadata": {},
   "source": [
    "##### IPDB Test Code"
   ]
  },
  {
   "cell_type": "code",
   "execution_count": 15,
   "metadata": {},
   "outputs": [],
   "source": [
    "# set_trace()\n",
    "\n",
    "def test_code():\n",
    "    set_trace()\n",
    "\n",
    "    train_iter = iter(x_train_loader)\n",
    "    data = next(train_iter)\n",
    "    x, y = data[0].to(device), data[1].to(device)    \n",
    "\n",
    "    loss = train_step(x, y, model, loss_criterion, optimizer)\n",
    "    \n",
    "    print(loss)\n",
    "    \n",
    "    data = next(train_iter)\n",
    "    x, y = data[0].to(device), data[1].to(device)\n",
    "\n",
    "    loss = train_step(x, y, model, loss_criterion, optimizer)\n",
    "    \n",
    "    print(loss)\n",
    "# test_code()"
   ]
  },
  {
   "cell_type": "code",
   "execution_count": 26,
   "metadata": {},
   "outputs": [
    {
     "ename": "TypeError",
     "evalue": "object of type 'float' has no len()",
     "output_type": "error",
     "traceback": [
      "\u001b[1;31m---------------------------------------------------------------------------\u001b[0m",
      "\u001b[1;31mTypeError\u001b[0m                                 Traceback (most recent call last)",
      "\u001b[1;32m<ipython-input-26-31134a4b1b06>\u001b[0m in \u001b[0;36m<module>\u001b[1;34m\u001b[0m\n\u001b[1;32m----> 1\u001b[1;33m \u001b[0mprint\u001b[0m\u001b[1;33m(\u001b[0m\u001b[0mlen\u001b[0m\u001b[1;33m(\u001b[0m\u001b[0mloss\u001b[0m\u001b[1;33m)\u001b[0m\u001b[1;33m)\u001b[0m\u001b[1;33m\u001b[0m\u001b[1;33m\u001b[0m\u001b[0m\n\u001b[0m\u001b[0;32m      2\u001b[0m \u001b[1;32mfor\u001b[0m \u001b[0mloss\u001b[0m \u001b[1;32min\u001b[0m \u001b[0mlosses\u001b[0m\u001b[1;33m:\u001b[0m\u001b[1;33m\u001b[0m\u001b[1;33m\u001b[0m\u001b[0m\n\u001b[0;32m      3\u001b[0m     \u001b[0mprint\u001b[0m\u001b[1;33m(\u001b[0m\u001b[0mloss\u001b[0m\u001b[1;33m)\u001b[0m\u001b[1;33m\u001b[0m\u001b[1;33m\u001b[0m\u001b[0m\n",
      "\u001b[1;31mTypeError\u001b[0m: object of type 'float' has no len()"
     ]
    }
   ],
   "source": [
    "print(len(loss))\n",
    "for loss in losses:\n",
    "    print(loss)"
   ]
  },
  {
   "cell_type": "code",
   "execution_count": 103,
   "metadata": {},
   "outputs": [
    {
     "data": {
      "image/png": "[encoded data removed]",
      "text/plain": [
       "<Figure size 432x288 with 1 Axes>"
      ]
     },
     "metadata": {
      "needs_background": "light"
     },
     "output_type": "display_data"
    },
    {
     "data": {
      "image/png": "[encoded data removed]",
      "text/plain": [
       "<Figure size 432x288 with 1 Axes>"
      ]
     },
     "metadata": {
      "needs_background": "light"
     },
     "output_type": "display_data"
    }
   ],
   "source": []
  },
  {
   "cell_type": "code",
   "execution_count": 22,
   "metadata": {},
   "outputs": [
    {
     "data": {
      "text/plain": [
       "tensor(False)"
      ]
     },
     "execution_count": 22,
     "metadata": {},
     "output_type": "execute_result"
    }
   ],
   "source": [
    "# np.save(os.path.join(\"..\", \"saved-data\", \"biaxial_128_training_losses\"), losses)\n",
    "# np.save(os.path.join(\"..\", \"saved-data\", \"biaxial_128_output_state_matrices\"), y_preds.numpy())\n",
    "\n",
    "(y_preds[0] == y_preds[2]).all()"
   ]
  },
  {
   "cell_type": "code",
   "execution_count": null,
   "metadata": {},
   "outputs": [],
   "source": []
  }
 ],
 "metadata": {
  "kernelspec": {
   "display_name": "Python [conda env:cs7643music] *",
   "language": "python",
   "name": "conda-env-cs7643music-py"
  },
  "language_info": {
   "codemirror_mode": {
    "name": "ipython",
    "version": 3
   },
   "file_extension": ".py",
   "mimetype": "text/x-python",
   "name": "python",
   "nbconvert_exporter": "python",
   "pygments_lexer": "ipython3",
   "version": "3.7.7"
  }
 },
 "nbformat": 4,
 "nbformat_minor": 4
}
